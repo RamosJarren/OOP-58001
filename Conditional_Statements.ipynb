{
  "nbformat": 4,
  "nbformat_minor": 0,
  "metadata": {
    "colab": {
      "provenance": [],
      "authorship_tag": "ABX9TyOpT2wovXYDV04IHJxqlf2V",
      "include_colab_link": true
    },
    "kernelspec": {
      "name": "python3",
      "display_name": "Python 3"
    },
    "language_info": {
      "name": "python"
    }
  },
  "cells": [
    {
      "cell_type": "markdown",
      "metadata": {
        "id": "view-in-github",
        "colab_type": "text"
      },
      "source": [
        "<a href=\"https://colab.research.google.com/github/RamosJarren/OOP-58001/blob/main/Conditional_Statements.ipynb\" target=\"_parent\"><img src=\"https://colab.research.google.com/assets/colab-badge.svg\" alt=\"Open In Colab\"/></a>"
      ]
    },
    {
      "cell_type": "markdown",
      "source": [
        "## **Conditional Statements**"
      ],
      "metadata": {
        "id": "rFO8EDbuEVDD"
      }
    },
    {
      "cell_type": "markdown",
      "source": [
        "If Statement"
      ],
      "metadata": {
        "id": "4SEyJWd4ESPM"
      }
    },
    {
      "cell_type": "code",
      "source": [
        "a = 12\n",
        "b = 100\n",
        "if b > a:\n",
        "  print(\"b is greater than a\")"
      ],
      "metadata": {
        "colab": {
          "base_uri": "https://localhost:8080/"
        },
        "id": "DCixKR6UEV0r",
        "outputId": "d3c24ddb-5925-4c60-f83d-9181401298d1"
      },
      "execution_count": null,
      "outputs": [
        {
          "output_type": "stream",
          "name": "stdout",
          "text": [
            "b is greater than a\n"
          ]
        }
      ]
    },
    {
      "cell_type": "markdown",
      "source": [
        "Elif Statement"
      ],
      "metadata": {
        "id": "x2ZsjgylE2jJ"
      }
    },
    {
      "cell_type": "code",
      "source": [
        "a = 12\n",
        "b = 100\n",
        "if b > a:\n",
        "  print(\"b is greater than a\")\n",
        "elif a==b:\n",
        "  print(\"a and b are equal\")"
      ],
      "metadata": {
        "colab": {
          "base_uri": "https://localhost:8080/"
        },
        "id": "-PBHZMMsEogr",
        "outputId": "ba04cb89-c001-4565-cd5c-957b21b70b52"
      },
      "execution_count": null,
      "outputs": [
        {
          "output_type": "stream",
          "name": "stdout",
          "text": [
            "b is greater than a\n"
          ]
        }
      ]
    },
    {
      "cell_type": "markdown",
      "source": [
        "Else Statement"
      ],
      "metadata": {
        "id": "3I0SMuCDFA7D"
      }
    },
    {
      "cell_type": "code",
      "source": [
        "a = 200\n",
        "b = 33\n",
        "if b > a:\n",
        "  print(\"b is greater than a\")\n",
        "elif a==b:\n",
        "  print(\"a and b are equal\")\n",
        "else:\n",
        "  print(\"a is greater than b\")"
      ],
      "metadata": {
        "colab": {
          "base_uri": "https://localhost:8080/"
        },
        "id": "scEronE3FCnj",
        "outputId": "ae690511-f8ec-402b-9282-a1b44b82be44"
      },
      "execution_count": null,
      "outputs": [
        {
          "output_type": "stream",
          "name": "stdout",
          "text": [
            "a is greater than b\n"
          ]
        }
      ]
    },
    {
      "cell_type": "markdown",
      "source": [
        "Short Hand If Statement"
      ],
      "metadata": {
        "id": "tqEwytF4Fiyf"
      }
    },
    {
      "cell_type": "code",
      "source": [
        "if a > b: print(\"a is greater than b\")"
      ],
      "metadata": {
        "colab": {
          "base_uri": "https://localhost:8080/"
        },
        "id": "3mChHSX4FlMf",
        "outputId": "de35063a-c9e2-4e88-a97e-9b803e982707"
      },
      "execution_count": null,
      "outputs": [
        {
          "output_type": "stream",
          "name": "stdout",
          "text": [
            "a is greater than b\n"
          ]
        }
      ]
    },
    {
      "cell_type": "markdown",
      "source": [
        "Short Hand If...Else Statement"
      ],
      "metadata": {
        "id": "6e7s1dCqFvbO"
      }
    },
    {
      "cell_type": "code",
      "source": [
        "a = 2 \n",
        "b = 330\n",
        "print(\"A\") if a > b else print(\"B\")"
      ],
      "metadata": {
        "colab": {
          "base_uri": "https://localhost:8080/"
        },
        "id": "21vm2HPuF183",
        "outputId": "bbdf0fa0-9f45-4c35-d664-e639f604655c"
      },
      "execution_count": null,
      "outputs": [
        {
          "output_type": "stream",
          "name": "stdout",
          "text": [
            "B\n"
          ]
        }
      ]
    },
    {
      "cell_type": "markdown",
      "source": [
        "And-Both Conditions Are True"
      ],
      "metadata": {
        "id": "CUHwiaqxGDAW"
      }
    },
    {
      "cell_type": "code",
      "source": [
        "a = 200\n",
        "b = 33\n",
        "c = 500\n",
        "if a > b and c > a:\n",
        "  print(\"Both conditions are true\")"
      ],
      "metadata": {
        "colab": {
          "base_uri": "https://localhost:8080/"
        },
        "id": "iDPORjkNGKzW",
        "outputId": "4b845c25-f340-4b66-f2e3-86a4438b213c"
      },
      "execution_count": null,
      "outputs": [
        {
          "output_type": "stream",
          "name": "stdout",
          "text": [
            "Both conditions are true\n"
          ]
        }
      ]
    },
    {
      "cell_type": "markdown",
      "source": [
        "Or-At least One Of The Conditions Is True"
      ],
      "metadata": {
        "id": "10tDdmmoGgrm"
      }
    },
    {
      "cell_type": "code",
      "source": [
        "a = 200\n",
        "b = 33\n",
        "c = 500\n",
        "if a > b or c > a:\n",
        "  print(\"At least one of the conditions is true\")"
      ],
      "metadata": {
        "colab": {
          "base_uri": "https://localhost:8080/"
        },
        "id": "CZpHJc9DGncW",
        "outputId": "b892dc79-7933-404d-9eac-8157dc0ebb75"
      },
      "execution_count": null,
      "outputs": [
        {
          "output_type": "stream",
          "name": "stdout",
          "text": [
            "At least one of the conditions is true\n"
          ]
        }
      ]
    },
    {
      "cell_type": "markdown",
      "source": [
        "Nested If"
      ],
      "metadata": {
        "id": "8-UXiff1Gxvu"
      }
    },
    {
      "cell_type": "code",
      "source": [
        "x = 41\n",
        "if x > 10:\n",
        "  print(\"Above ten,\")\n",
        "  if x > 20:\n",
        "    print(\"and also above 20!\")\n",
        "  else:\n",
        "    print(\"but not above 20.\")"
      ],
      "metadata": {
        "colab": {
          "base_uri": "https://localhost:8080/"
        },
        "id": "DX4brzNRGznO",
        "outputId": "d8703778-cf8e-40b3-c2d2-64e7f7e78927"
      },
      "execution_count": null,
      "outputs": [
        {
          "output_type": "stream",
          "name": "stdout",
          "text": [
            "Above ten,\n",
            "but not above 20.\n"
          ]
        }
      ]
    },
    {
      "cell_type": "markdown",
      "source": [
        "Example 1"
      ],
      "metadata": {
        "id": "AtHwAtEFHAPG"
      }
    },
    {
      "cell_type": "code",
      "source": [
        "print(\"Write a program that determines if the input age is qualified to vote or not. The qualifying age is 18 years old and above.\")\n",
        "print(\"\")\n",
        "print(\"Enter your age: \")\n",
        "age = int(input())\n",
        "if age > 18:\n",
        "  print(\"You are qualified to vote. You are\", age, \"years old.\")\n",
        "else:\n",
        "  print(\"You are NOT qualified to vote. You are\", age, \"years old.\")"
      ],
      "metadata": {
        "colab": {
          "base_uri": "https://localhost:8080/"
        },
        "id": "ejZxkuVyHDre",
        "outputId": "fab5a123-06c3-467f-8c82-0926c44aef8d"
      },
      "execution_count": null,
      "outputs": [
        {
          "output_type": "stream",
          "name": "stdout",
          "text": [
            "Write a program that determines if the input age is qualified to vote or not. The qualifying age is 18 years old and above.\n",
            "\n",
            "Enter your age: \n",
            "16\n",
            "You are NOT qualified to vote. You are 16 years old.\n"
          ]
        }
      ]
    },
    {
      "cell_type": "markdown",
      "source": [
        "Example 2"
      ],
      "metadata": {
        "id": "FXN7IHIcHxHO"
      }
    },
    {
      "cell_type": "code",
      "source": [
        "print(\"Write a program that determines if the input number is POSITIVE, NEGATIVE, or Zero.\")\n",
        "print(\"\")\n",
        "print(\"Enter your number: \")\n",
        "numb = int(input())\n",
        "if numb > 0:\n",
        "  print(\"The number\", numb, \"is Positive.\")\n",
        "elif numb == 0:\n",
        "  print(\"The number\", numb, \"is Zero.\")\n",
        "else:\n",
        "  print(\"The number\", numb, \"is Negative.\")"
      ],
      "metadata": {
        "colab": {
          "base_uri": "https://localhost:8080/"
        },
        "id": "unTIKGIwHyNf",
        "outputId": "a2b77483-e370-49af-ab66-5d64909ff732"
      },
      "execution_count": null,
      "outputs": [
        {
          "output_type": "stream",
          "name": "stdout",
          "text": [
            "Write a program that determines if the input number is POSITIVE, NEGATIVE, or Zero.\n",
            "\n",
            "Enter your number: \n",
            "-2\n",
            "The number -2 is Negative.\n"
          ]
        }
      ]
    },
    {
      "cell_type": "markdown",
      "source": [
        "Example 3"
      ],
      "metadata": {
        "id": "okFHfui-I4iX"
      }
    },
    {
      "cell_type": "code",
      "source": [
        "print(\"Write a program to determine if the grades are: If: grade > = 75 , “Passed” grade = 74, “Remedial” grade < 74, “Failed”\")\n",
        "print(\"\")\n",
        "print(\"Enter your grade: \")\n",
        "grade = int(input())\n",
        "if grade >= 75:\n",
        "  print(\"Your grade is\", grade, \", you have passed.\")\n",
        "elif grade == 74:\n",
        "  print(\"Your grade is\", grade, \", you need a remedial.\")\n",
        "else:\n",
        "  print(\"Your grade is\", grade, \", you have failed.\")"
      ],
      "metadata": {
        "colab": {
          "base_uri": "https://localhost:8080/"
        },
        "id": "HppsHTHFI5WP",
        "outputId": "d91ee9f0-9c0d-428a-f255-1cfa628e8aab"
      },
      "execution_count": null,
      "outputs": [
        {
          "output_type": "stream",
          "name": "stdout",
          "text": [
            "Write a program to determine if the grades are: If: grade > = 75 , “Passed” grade = 74, “Remedial” grade < 74, “Failed”\n",
            "\n",
            "Enter your grade: \n",
            "69\n",
            "Your grade is 69 , you have failed.\n"
          ]
        }
      ]
    }
  ]
}