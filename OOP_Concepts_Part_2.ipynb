{
  "nbformat": 4,
  "nbformat_minor": 0,
  "metadata": {
    "colab": {
      "provenance": [],
      "authorship_tag": "ABX9TyOdMXLdBDoTmaMZqh+wVndl",
      "include_colab_link": true
    },
    "kernelspec": {
      "name": "python3",
      "display_name": "Python 3"
    },
    "language_info": {
      "name": "python"
    }
  },
  "cells": [
    {
      "cell_type": "markdown",
      "metadata": {
        "id": "view-in-github",
        "colab_type": "text"
      },
      "source": [
        "<a href=\"https://colab.research.google.com/github/RamosJarren/OOP-58001/blob/main/OOP_Concepts_Part_2.ipynb\" target=\"_parent\"><img src=\"https://colab.research.google.com/assets/colab-badge.svg\" alt=\"Open In Colab\"/></a>"
      ]
    },
    {
      "cell_type": "markdown",
      "source": [
        "## OOP Concepts Part 2"
      ],
      "metadata": {
        "id": "N6u5W658VYUS"
      }
    },
    {
      "cell_type": "markdown",
      "source": [
        "Class with Multiple Objects"
      ],
      "metadata": {
        "id": "8ZJGEC4KVbBJ"
      }
    },
    {
      "cell_type": "code",
      "source": [
        "class Birds:\n",
        "  def __init__(self, bird_name):\n",
        "    self.bird_name = bird_name\n",
        "  def flying_birds(self):\n",
        "    print(self.bird_name, \"flies above clouds\")\n",
        "  def non_flying_birds(self):\n",
        "    print(self.bird_name, \"is the national bird of the Philippines\")\n",
        "\n",
        "vulture = Birds(\"Beared Vulture\")\n",
        "crane = Birds(\"Demoiselle Crane\")\n",
        "emu = Birds(\"King Island Emu\")\n",
        "\n",
        "vulture.flying_birds()\n",
        "crane.flying_birds()\n",
        "emu.non_flying_birds()"
      ],
      "metadata": {
        "colab": {
          "base_uri": "https://localhost:8080/"
        },
        "id": "vC2epTOdVnwg",
        "outputId": "db69c5fc-083b-4f8b-850e-690a7b008f5f"
      },
      "execution_count": 58,
      "outputs": [
        {
          "output_type": "stream",
          "name": "stdout",
          "text": [
            "Beared Vulture flies above clouds\n",
            "Demoiselle Crane flies above clouds\n",
            "King Island Emu is the national bird of the Philippines\n"
          ]
        }
      ]
    },
    {
      "cell_type": "markdown",
      "source": [
        "Encapsulation"
      ],
      "metadata": {
        "id": "WK_07H4TYn6r"
      }
    },
    {
      "cell_type": "code",
      "source": [
        "class foo:\n",
        "  def __init__(self, a, b):\n",
        "    self.__a = a\n",
        "    self.__b = b\n",
        "  def add(self):\n",
        "    return self.__a + self.__b\n",
        "\n",
        "foo_object = foo(3, 4)\n",
        "foo_object.add()\n",
        "foo_object.a = 5\n",
        "foo_object.add()"
      ],
      "metadata": {
        "colab": {
          "base_uri": "https://localhost:8080/"
        },
        "id": "AcfAfQf1ZGZL",
        "outputId": "9d4d0f97-b002-4088-e439-d38c3dff1512"
      },
      "execution_count": 59,
      "outputs": [
        {
          "output_type": "execute_result",
          "data": {
            "text/plain": [
              "7"
            ]
          },
          "metadata": {},
          "execution_count": 59
        }
      ]
    },
    {
      "cell_type": "code",
      "source": [
        "class Counter:\n",
        "  def __init__(self):\n",
        "    self.current = 0\n",
        "  def increment(self):\n",
        "    self.current += 1\n",
        "  def value(self):\n",
        "    return self.current\n",
        "  def reset(self):\n",
        "    self.current = 0\n",
        "\n",
        "display = Counter()\n",
        "display.increment()\n",
        "display.value()"
      ],
      "metadata": {
        "colab": {
          "base_uri": "https://localhost:8080/"
        },
        "id": "QyfYDCtGcEYh",
        "outputId": "7f4468ab-b557-4a8d-d52f-52483b5458b6"
      },
      "execution_count": 60,
      "outputs": [
        {
          "output_type": "execute_result",
          "data": {
            "text/plain": [
              "1"
            ]
          },
          "metadata": {},
          "execution_count": 60
        }
      ]
    },
    {
      "cell_type": "markdown",
      "source": [
        "Inheritance"
      ],
      "metadata": {
        "id": "b6d1OaMfeFfC"
      }
    },
    {
      "cell_type": "code",
      "source": [
        "class Person:\n",
        "  def __init__(self, name, birthday):\n",
        "    self.name = name\n",
        "    self.birthday = birthday\n",
        "  def display(self):\n",
        "    print(\"My name is\", self.name)\n",
        "    print(\"My birthday is\", self.birthday)\n",
        "\n",
        "class Student(Person):\n",
        "  pass\n",
        "class Teacher(Person):\n",
        "  pass\n",
        "\n",
        "student = Student(\"Ramos\", \"October 10, 2003\")\n",
        "student.display()\n",
        "teacher = Teacher(\"Enrile\", \"February 14, 1924\")\n",
        "teacher.display()"
      ],
      "metadata": {
        "colab": {
          "base_uri": "https://localhost:8080/"
        },
        "id": "NjWCfy_eeGf4",
        "outputId": "ee0db551-5f3d-4299-9f10-fdc84f51be81"
      },
      "execution_count": 27,
      "outputs": [
        {
          "output_type": "stream",
          "name": "stdout",
          "text": [
            "My name is Ramos\n",
            "My birthday is October 10, 2003\n",
            "My name is Enrile\n",
            "My birthday is February 14, 1924\n"
          ]
        }
      ]
    },
    {
      "cell_type": "markdown",
      "source": [
        "Example"
      ],
      "metadata": {
        "id": "VljcIEuLgt1_"
      }
    },
    {
      "cell_type": "code",
      "source": [
        "class Shapes:\n",
        "  def __init__(self, shape, sides):\n",
        "    self.__shape = shape\n",
        "    self.__sides = sides\n",
        "  def display(self):\n",
        "    print(\"A\", self.__shape, \"has\", self.__sides, \"sides\")\n",
        "\n",
        "class Triangle(Shapes):\n",
        "  pass\n",
        "class Quadrilateral(Shapes):\n",
        "  pass\n",
        "class Pentagon(Shapes):\n",
        "  pass\n",
        "class Hexagon(Shapes):\n",
        "  pass\n",
        "  \n",
        "alpha = Triangle(\"Triangle\", 3)\n",
        "bravo = Quadrilateral(\"Square\", 4)\n",
        "charlie = Pentagon(\"Pentagon\", 5)\n",
        "delta = Hexagon(\"Hexagon\", 6)\n",
        "echo = Quadrilateral(\"Rectangle\", 4)\n",
        "bravo.shape = \"Parallelogram\"\n",
        "echo.side = 2\n",
        "\n",
        "alpha.display()\n",
        "bravo.display()\n",
        "charlie.display()\n",
        "delta.display()\n",
        "echo.display()"
      ],
      "metadata": {
        "colab": {
          "base_uri": "https://localhost:8080/"
        },
        "id": "LNLSvX6qgwP-",
        "outputId": "aa1e57cc-372c-4198-a1d7-bff9dcf56dc2"
      },
      "execution_count": 63,
      "outputs": [
        {
          "output_type": "stream",
          "name": "stdout",
          "text": [
            "A Triangle has 3 sides\n",
            "A Square has 4 sides\n",
            "A Pentagon has 5 sides\n",
            "A Hexagon has 6 sides\n",
            "A Rectangle has 4 sides\n"
          ]
        }
      ]
    }
  ]
}