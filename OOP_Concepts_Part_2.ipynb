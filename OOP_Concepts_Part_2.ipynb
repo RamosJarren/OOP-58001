{
  "nbformat": 4,
  "nbformat_minor": 0,
  "metadata": {
    "colab": {
      "provenance": [],
      "authorship_tag": "ABX9TyOk18r9uwPi6EvfPhU3fU/i",
      "include_colab_link": true
    },
    "kernelspec": {
      "name": "python3",
      "display_name": "Python 3"
    },
    "language_info": {
      "name": "python"
    }
  },
  "cells": [
    {
      "cell_type": "markdown",
      "metadata": {
        "id": "view-in-github",
        "colab_type": "text"
      },
      "source": [
        "<a href=\"https://colab.research.google.com/github/RamosJarren/OOP-58001/blob/main/OOP_Concepts_Part_2.ipynb\" target=\"_parent\"><img src=\"https://colab.research.google.com/assets/colab-badge.svg\" alt=\"Open In Colab\"/></a>"
      ]
    },
    {
      "cell_type": "markdown",
      "source": [
        "## OOP Concepts Part 2"
      ],
      "metadata": {
        "id": "N6u5W658VYUS"
      }
    },
    {
      "cell_type": "markdown",
      "source": [
        "Class with Multiple Objects"
      ],
      "metadata": {
        "id": "8ZJGEC4KVbBJ"
      }
    },
    {
      "cell_type": "code",
      "source": [
        "class Birds:\n",
        "  def __init__(self, bird_name):\n",
        "    self.bird_name = bird_name\n",
        "  def flying_birds(self):\n",
        "    print(self.bird_name, \"flies above clouds\")\n",
        "  def non_flying_birds(self):\n",
        "    print(self.bird_name, \"is the national bird of the Philippines\")\n",
        "\n",
        "vulture = Birds(\"Beared Vulture\")\n",
        "crane = Birds(\"Demoiselle Crane\")\n",
        "emu = Birds(\"King Island Emu\")\n",
        "\n",
        "vulture.flying_birds()\n",
        "crane.flying_birds()\n",
        "emu.non_flying_birds()"
      ],
      "metadata": {
        "colab": {
          "base_uri": "https://localhost:8080/"
        },
        "id": "vC2epTOdVnwg",
        "outputId": "86b2e8b5-ca5f-49a8-db41-067e1351454d"
      },
      "execution_count": 69,
      "outputs": [
        {
          "output_type": "stream",
          "name": "stdout",
          "text": [
            "Beared Vulture flies above clouds\n",
            "Demoiselle Crane flies above clouds\n",
            "King Island Emu is the national bird of the Philippines\n"
          ]
        }
      ]
    },
    {
      "cell_type": "markdown",
      "source": [
        "Encapsulation"
      ],
      "metadata": {
        "id": "WK_07H4TYn6r"
      }
    },
    {
      "cell_type": "code",
      "source": [
        "class foo:\n",
        "  def __init__(self, a, b):\n",
        "    self.__a = a\n",
        "    self.__b = b\n",
        "  def add(self):\n",
        "    return self.__a + self.__b\n",
        "\n",
        "foo_object = foo(3, 4)\n",
        "foo_object.add()\n",
        "foo_object.a = 5\n",
        "foo_object.add()"
      ],
      "metadata": {
        "colab": {
          "base_uri": "https://localhost:8080/"
        },
        "id": "AcfAfQf1ZGZL",
        "outputId": "6b5c21a9-157a-462c-d6da-8e0d48c1e7d8"
      },
      "execution_count": 68,
      "outputs": [
        {
          "output_type": "execute_result",
          "data": {
            "text/plain": [
              "7"
            ]
          },
          "metadata": {},
          "execution_count": 68
        }
      ]
    },
    {
      "cell_type": "code",
      "source": [
        "class Counter:\n",
        "  def __init__(self):\n",
        "    self.current = 0\n",
        "  def increment(self):\n",
        "    self.current += 1\n",
        "  def value(self):\n",
        "    print(self.current)\n",
        "  def reset(self):\n",
        "    self.current = 0\n",
        "\n",
        "display = Counter()\n",
        "display.value()\n",
        "display.increment()\n",
        "display.value()\n",
        "display.reset()\n",
        "display.value()"
      ],
      "metadata": {
        "colab": {
          "base_uri": "https://localhost:8080/"
        },
        "id": "QyfYDCtGcEYh",
        "outputId": "d6b5bdbe-c458-44ce-cb8a-1c1c5f86aace"
      },
      "execution_count": 67,
      "outputs": [
        {
          "output_type": "stream",
          "name": "stdout",
          "text": [
            "0\n",
            "1\n",
            "0\n"
          ]
        }
      ]
    },
    {
      "cell_type": "markdown",
      "source": [
        "Inheritance"
      ],
      "metadata": {
        "id": "b6d1OaMfeFfC"
      }
    },
    {
      "cell_type": "code",
      "source": [
        "class Person:\n",
        "  def __init__(self, name, birthday):\n",
        "    self.name = name\n",
        "    self.birthday = birthday\n",
        "  def display(self):\n",
        "    print(\"My name is\", self.name)\n",
        "    print(\"My birthday is\", self.birthday)\n",
        "\n",
        "class Student(Person):\n",
        "  pass\n",
        "class Teacher(Person):\n",
        "  pass\n",
        "\n",
        "student = Student(\"Ramos\", \"October 10, 2003\")\n",
        "student.display()\n",
        "teacher = Teacher(\"Enrile\", \"February 14, 1924\")\n",
        "teacher.display()"
      ],
      "metadata": {
        "colab": {
          "base_uri": "https://localhost:8080/"
        },
        "id": "NjWCfy_eeGf4",
        "outputId": "fec4d7b5-f2b5-4c01-eefa-4e24a45aba6e"
      },
      "execution_count": 66,
      "outputs": [
        {
          "output_type": "stream",
          "name": "stdout",
          "text": [
            "My name is Ramos\n",
            "My birthday is October 10, 2003\n",
            "My name is Enrile\n",
            "My birthday is February 14, 1924\n"
          ]
        }
      ]
    },
    {
      "cell_type": "markdown",
      "source": [
        "Example"
      ],
      "metadata": {
        "id": "VljcIEuLgt1_"
      }
    },
    {
      "cell_type": "code",
      "source": [
        "class Shapes:\n",
        "  def __init__(self, shape, sides):\n",
        "    self.__shape = shape\n",
        "    self.__sides = sides\n",
        "  def display(self):\n",
        "    print(\"A\", self.__shape, \"has\", self.__sides, \"sides\")\n",
        "\n",
        "class Triangle(Shapes):\n",
        "  pass\n",
        "class Quadrilateral(Shapes):\n",
        "  pass\n",
        "class Pentagon(Shapes):\n",
        "  pass\n",
        "class Hexagon(Shapes):\n",
        "  pass\n",
        "  \n",
        "alpha = Triangle(\"Triangle\", 3)\n",
        "bravo = Quadrilateral(\"Square\", 4)\n",
        "charlie = Pentagon(\"Pentagon\", 5)\n",
        "delta = Hexagon(\"Hexagon\", 6)\n",
        "echo = Quadrilateral(\"Rectangle\", 4)\n",
        "bravo.shape = \"Parallelogram\"\n",
        "charlie.side = 8\n",
        "delta.shape = \"Nonagon\"\n",
        "echo.side = 2\n",
        "\n",
        "alpha.display()\n",
        "bravo.display()\n",
        "charlie.display()\n",
        "delta.display()\n",
        "echo.display()"
      ],
      "metadata": {
        "colab": {
          "base_uri": "https://localhost:8080/"
        },
        "id": "LNLSvX6qgwP-",
        "outputId": "b7579712-66e6-4ad0-a3b7-261546d1d1ce"
      },
      "execution_count": 65,
      "outputs": [
        {
          "output_type": "stream",
          "name": "stdout",
          "text": [
            "A Triangle has 3 sides\n",
            "A Square has 4 sides\n",
            "A Pentagon has 5 sides\n",
            "A Hexagon has 6 sides\n",
            "A Rectangle has 4 sides\n"
          ]
        }
      ]
    }
  ]
}