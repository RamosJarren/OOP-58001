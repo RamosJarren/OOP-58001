{
  "nbformat": 4,
  "nbformat_minor": 0,
  "metadata": {
    "colab": {
      "provenance": [],
      "authorship_tag": "ABX9TyOtQeEpO024Zud2IfkJIRlE",
      "include_colab_link": true
    },
    "kernelspec": {
      "name": "python3",
      "display_name": "Python 3"
    },
    "language_info": {
      "name": "python"
    }
  },
  "cells": [
    {
      "cell_type": "markdown",
      "metadata": {
        "id": "view-in-github",
        "colab_type": "text"
      },
      "source": [
        "<a href=\"https://colab.research.google.com/github/RamosJarren/OOP-58001/blob/main/Concepts_in_OOP.ipynb\" target=\"_parent\"><img src=\"https://colab.research.google.com/assets/colab-badge.svg\" alt=\"Open In Colab\"/></a>"
      ]
    },
    {
      "cell_type": "markdown",
      "source": [
        "## Concepts in OOP"
      ],
      "metadata": {
        "id": "9UDA95ypPXnu"
      }
    },
    {
      "cell_type": "markdown",
      "source": [
        "Class Constructor"
      ],
      "metadata": {
        "id": "EKECbt-gPdmr"
      }
    },
    {
      "cell_type": "code",
      "source": [
        "class Car:\n",
        "  pass"
      ],
      "metadata": {
        "id": "8I6Tc2vuPjtL"
      },
      "execution_count": 2,
      "outputs": []
    },
    {
      "cell_type": "code",
      "source": [
        "class myNumber:\n",
        "  x = 5\n",
        "\n",
        "num1 = myNumber()\n",
        "print(num1.x)"
      ],
      "metadata": {
        "colab": {
          "base_uri": "https://localhost:8080/"
        },
        "id": "ZfFH7O06Pmtv",
        "outputId": "eb0a9dd6-caea-418a-bd85-74396b241be9"
      },
      "execution_count": 3,
      "outputs": [
        {
          "output_type": "stream",
          "name": "stdout",
          "text": [
            "5\n"
          ]
        }
      ]
    },
    {
      "cell_type": "markdown",
      "source": [
        "Definition"
      ],
      "metadata": {
        "id": "6crPSNtfSHpE"
      }
    },
    {
      "cell_type": "code",
      "source": [
        "class Person:\n",
        "  def __init__(self, name, age):\n",
        "    self.name = name\n",
        "    self.age = age\n",
        "  def myFunction(self):\n",
        "    print(\"Hello, my name is\", self.name)\n",
        "\n",
        "person = Person(\"Ana\", 36)\n",
        "person.myFunction()"
      ],
      "metadata": {
        "colab": {
          "base_uri": "https://localhost:8080/"
        },
        "id": "gBuYrv5aP8v0",
        "outputId": "b38ce44f-a079-4966-8c54-7dfb69ce0d53"
      },
      "execution_count": 4,
      "outputs": [
        {
          "output_type": "stream",
          "name": "stdout",
          "text": [
            "Hello, my name is Ana\n"
          ]
        }
      ]
    },
    {
      "cell_type": "markdown",
      "source": [
        "Modification"
      ],
      "metadata": {
        "id": "DfCZ1q8FSEq5"
      }
    },
    {
      "cell_type": "code",
      "source": [
        "person.name = \"Marco\"\n",
        "print(person.name)\n",
        "person.myFunction()"
      ],
      "metadata": {
        "colab": {
          "base_uri": "https://localhost:8080/"
        },
        "id": "uUsx7JjBRq1L",
        "outputId": "9a8788b2-fa23-4f37-85bc-c0eaa9fb5dbf"
      },
      "execution_count": 5,
      "outputs": [
        {
          "output_type": "stream",
          "name": "stdout",
          "text": [
            "Marco\n",
            "Hello, my name is Marco\n"
          ]
        }
      ]
    },
    {
      "cell_type": "markdown",
      "source": [
        "Deletion"
      ],
      "metadata": {
        "id": "v4pV4NjOSCvV"
      }
    },
    {
      "cell_type": "code",
      "source": [
        "del person.age\n",
        "person.myFunction()\n",
        "print(person.name)"
      ],
      "metadata": {
        "colab": {
          "base_uri": "https://localhost:8080/"
        },
        "id": "bSF1CF3USAfo",
        "outputId": "b1d58324-cad8-4591-b994-3a07ea8a5298"
      },
      "execution_count": 6,
      "outputs": [
        {
          "output_type": "stream",
          "name": "stdout",
          "text": [
            "Hello, my name is Marco\n",
            "Marco\n"
          ]
        }
      ]
    },
    {
      "cell_type": "markdown",
      "source": [
        "Square Calculation"
      ],
      "metadata": {
        "id": "P-sfPfhTTb2P"
      }
    },
    {
      "cell_type": "code",
      "source": [
        "class Shapes:\n",
        "  def __init__(self, side):\n",
        "    self.side = side\n",
        "  def area(self):\n",
        "    return self.side * self.side\n",
        "  def display(self):\n",
        "    print(\"the area of the square is\", self.area())\n",
        "\n",
        "square = Shapes(4)\n",
        "square.display()"
      ],
      "metadata": {
        "colab": {
          "base_uri": "https://localhost:8080/"
        },
        "id": "b6ebTrC8Tdaw",
        "outputId": "7e878a0f-9702-4960-8926-d4e77ed385d0"
      },
      "execution_count": 8,
      "outputs": [
        {
          "output_type": "stream",
          "name": "stdout",
          "text": [
            "the area of the square is 16\n"
          ]
        }
      ]
    },
    {
      "cell_type": "markdown",
      "source": [
        "Activity\n",
        "*   Create a Python program with the following\n",
        "*   Fullname, Student Number, and School as attributes names\n",
        "*   Construct a method to display the values of attributes\n",
        "*   Use student as object name"
      ],
      "metadata": {
        "id": "DFQRyXFUUooO"
      }
    },
    {
      "cell_type": "code",
      "source": [
        "class Student:\n",
        "  def __init__(self, fullName, studentNumber, school):\n",
        "    self.fullName = fullName\n",
        "    self.studentNumber = studentNumber\n",
        "    self.school = school\n",
        "  def display(self):\n",
        "    print(self.fullName, self.studentNumber, self.school)\n",
        "\n",
        "person = Student(\"Jarren Leigh Ramos\", 202216351, \"Adamson University\")\n",
        "person.display()"
      ],
      "metadata": {
        "colab": {
          "base_uri": "https://localhost:8080/"
        },
        "id": "Nq3RvduKUqLJ",
        "outputId": "be6540bb-0588-4a0a-91db-5dbc22374a59"
      },
      "execution_count": 26,
      "outputs": [
        {
          "output_type": "stream",
          "name": "stdout",
          "text": [
            "Jarren Leigh Ramos 202216351 Adamson University\n"
          ]
        }
      ]
    }
  ]
}