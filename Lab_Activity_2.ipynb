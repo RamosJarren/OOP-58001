{
  "nbformat": 4,
  "nbformat_minor": 0,
  "metadata": {
    "colab": {
      "provenance": [],
      "authorship_tag": "ABX9TyNkS9APeA1z3BFvWjMUmyyM",
      "include_colab_link": true
    },
    "kernelspec": {
      "name": "python3",
      "display_name": "Python 3"
    },
    "language_info": {
      "name": "python"
    }
  },
  "cells": [
    {
      "cell_type": "markdown",
      "metadata": {
        "id": "view-in-github",
        "colab_type": "text"
      },
      "source": [
        "<a href=\"https://colab.research.google.com/github/RamosJarren/OOP-58001/blob/main/Lab_Activity_2.ipynb\" target=\"_parent\"><img src=\"https://colab.research.google.com/assets/colab-badge.svg\" alt=\"Open In Colab\"/></a>"
      ]
    },
    {
      "cell_type": "markdown",
      "source": [
        "## Lab Activity"
      ],
      "metadata": {
        "id": "KZbh_bZY6LZi"
      }
    },
    {
      "cell_type": "code",
      "source": [
        "import math\n",
        "\n",
        "class Circle:\n",
        "  def __init__ (self, radius):\n",
        "    self.radius = radius\n",
        "    self.pi = math.pi\n",
        "  def Perimeter(self):\n",
        "    return 2 * self.pi * self.radius\n",
        "  def Area(self):\n",
        "    return self.pi * (self.radius ** 2)\n",
        "  def Display(self):\n",
        "    print(\"The perimeter of the circle is\", self.Perimeter())\n",
        "    print(\"The area of the circle is\", self.Area())\n",
        "\n",
        "bilog = Circle(float(input(\"Enter the radius of the circle: \")))\n",
        "bilog.Display()\n",
        "\n",
        "#https://adamsoneduph-my.sharepoint.com/:w:/g/personal/jarren_leigh_ramos_adamson_edu_ph/ERE1bCGTiSZGomJhm0uRweMB32cjSBhh2zDZgKIQVdansA?e=GyxFsv"
      ],
      "metadata": {
        "colab": {
          "base_uri": "https://localhost:8080/"
        },
        "id": "iSF37V0q5fCU",
        "outputId": "3b4c6196-8c9c-49e3-e4b3-ca6acdf65da7"
      },
      "execution_count": 14,
      "outputs": [
        {
          "output_type": "stream",
          "name": "stdout",
          "text": [
            "Enter the radius of the circle: 13\n",
            "The perimeter of the circle is 81.68140899333463\n",
            "The area of the circle is 530.929158456675\n"
          ]
        }
      ]
    }
  ]
}